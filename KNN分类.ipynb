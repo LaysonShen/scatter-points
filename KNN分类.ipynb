{
 "cells": [
  {
   "cell_type": "code",
   "execution_count": null,
   "metadata": {},
   "outputs": [],
   "source": [
    "import pandas as pd\n",
    "import numpy as np"
   ]
  },
  {
   "cell_type": "code",
   "execution_count": null,
   "metadata": {},
   "outputs": [
    {
     "ename": "",
     "evalue": "",
     "output_type": "error",
     "traceback": [
      "\u001b[1;31m运行具有“PythonML”的单元格需要ipykernel包。\n",
      "\u001b[1;31mRun the following command to install 'ipykernel' into the Python environment. \n",
      "\u001b[1;31mCommand: 'conda install -n PythonML ipykernel --update-deps --force-reinstall'"
     ]
    }
   ],
   "source": [
    "class KNN:\n",
    "    def __init__(self,k):#初始化方法，k是整型表示邻居的个数\n",
    "        self.k=k\n",
    "    def fit(self,X,y):\n",
    "        '''训练方法，只有在预测的时候才会调用，X是用于预测的类似数组、向量，[样本数量，样本特征]\n",
    "        y是样本数量'''\n",
    "        self.X=np.array(X)\n",
    "        self.y=np.array(y)\n",
    "    def predict(self,X):\n",
    "        #X是用于预测的类似数组、向量，[样本数量，样本特征]\n",
    "        #返回预测的结果\n",
    "        X.np.array(X)\n",
    "        result=[]\n"
   ]
  }
 ],
 "metadata": {
  "kernelspec": {
   "display_name": "base",
   "language": "python",
   "name": "python3"
  },
  "language_info": {
   "name": "python",
   "version": "3.9.18"
  }
 },
 "nbformat": 4,
 "nbformat_minor": 2
}
