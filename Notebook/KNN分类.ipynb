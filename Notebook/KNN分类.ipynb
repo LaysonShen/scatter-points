{
 "cells": [
  {
   "cell_type": "code",
   "execution_count": 24,
   "metadata": {},
   "outputs": [],
   "source": [
    "import pandas as pd\n",
    "import numpy as np"
   ]
  },
  {
   "cell_type": "code",
   "execution_count": 25,
   "metadata": {},
   "outputs": [
    {
     "data": {
      "text/html": [
       "<div>\n",
       "<style scoped>\n",
       "    .dataframe tbody tr th:only-of-type {\n",
       "        vertical-align: middle;\n",
       "    }\n",
       "\n",
       "    .dataframe tbody tr th {\n",
       "        vertical-align: top;\n",
       "    }\n",
       "\n",
       "    .dataframe thead th {\n",
       "        text-align: right;\n",
       "    }\n",
       "</style>\n",
       "<table border=\"1\" class=\"dataframe\">\n",
       "  <thead>\n",
       "    <tr style=\"text-align: right;\">\n",
       "      <th></th>\n",
       "      <th>Unnamed: 0</th>\n",
       "      <th>Sepal.Length</th>\n",
       "      <th>Sepal.Width</th>\n",
       "      <th>Petal.Length</th>\n",
       "      <th>Petal.Width</th>\n",
       "      <th>Species</th>\n",
       "    </tr>\n",
       "  </thead>\n",
       "  <tbody>\n",
       "    <tr>\n",
       "      <th>71</th>\n",
       "      <td>72</td>\n",
       "      <td>6.1</td>\n",
       "      <td>2.8</td>\n",
       "      <td>4.0</td>\n",
       "      <td>1.3</td>\n",
       "      <td>versicolor</td>\n",
       "    </tr>\n",
       "    <tr>\n",
       "      <th>145</th>\n",
       "      <td>146</td>\n",
       "      <td>6.7</td>\n",
       "      <td>3.0</td>\n",
       "      <td>5.2</td>\n",
       "      <td>2.3</td>\n",
       "      <td>virginica</td>\n",
       "    </tr>\n",
       "    <tr>\n",
       "      <th>105</th>\n",
       "      <td>106</td>\n",
       "      <td>7.6</td>\n",
       "      <td>3.0</td>\n",
       "      <td>6.6</td>\n",
       "      <td>2.1</td>\n",
       "      <td>virginica</td>\n",
       "    </tr>\n",
       "    <tr>\n",
       "      <th>135</th>\n",
       "      <td>136</td>\n",
       "      <td>7.7</td>\n",
       "      <td>3.0</td>\n",
       "      <td>6.1</td>\n",
       "      <td>2.3</td>\n",
       "      <td>virginica</td>\n",
       "    </tr>\n",
       "    <tr>\n",
       "      <th>58</th>\n",
       "      <td>59</td>\n",
       "      <td>6.6</td>\n",
       "      <td>2.9</td>\n",
       "      <td>4.6</td>\n",
       "      <td>1.3</td>\n",
       "      <td>versicolor</td>\n",
       "    </tr>\n",
       "    <tr>\n",
       "      <th>...</th>\n",
       "      <td>...</td>\n",
       "      <td>...</td>\n",
       "      <td>...</td>\n",
       "      <td>...</td>\n",
       "      <td>...</td>\n",
       "      <td>...</td>\n",
       "    </tr>\n",
       "    <tr>\n",
       "      <th>18</th>\n",
       "      <td>19</td>\n",
       "      <td>5.7</td>\n",
       "      <td>3.8</td>\n",
       "      <td>1.7</td>\n",
       "      <td>0.3</td>\n",
       "      <td>setosa</td>\n",
       "    </tr>\n",
       "    <tr>\n",
       "      <th>124</th>\n",
       "      <td>125</td>\n",
       "      <td>6.7</td>\n",
       "      <td>3.3</td>\n",
       "      <td>5.7</td>\n",
       "      <td>2.1</td>\n",
       "      <td>virginica</td>\n",
       "    </tr>\n",
       "    <tr>\n",
       "      <th>99</th>\n",
       "      <td>100</td>\n",
       "      <td>5.7</td>\n",
       "      <td>2.8</td>\n",
       "      <td>4.1</td>\n",
       "      <td>1.3</td>\n",
       "      <td>versicolor</td>\n",
       "    </tr>\n",
       "    <tr>\n",
       "      <th>77</th>\n",
       "      <td>78</td>\n",
       "      <td>6.7</td>\n",
       "      <td>3.0</td>\n",
       "      <td>5.0</td>\n",
       "      <td>1.7</td>\n",
       "      <td>versicolor</td>\n",
       "    </tr>\n",
       "    <tr>\n",
       "      <th>90</th>\n",
       "      <td>91</td>\n",
       "      <td>5.5</td>\n",
       "      <td>2.6</td>\n",
       "      <td>4.4</td>\n",
       "      <td>1.2</td>\n",
       "      <td>versicolor</td>\n",
       "    </tr>\n",
       "  </tbody>\n",
       "</table>\n",
       "<p>100 rows × 6 columns</p>\n",
       "</div>"
      ],
      "text/plain": [
       "     Unnamed: 0  Sepal.Length  Sepal.Width  Petal.Length  Petal.Width  \\\n",
       "71           72           6.1          2.8           4.0          1.3   \n",
       "145         146           6.7          3.0           5.2          2.3   \n",
       "105         106           7.6          3.0           6.6          2.1   \n",
       "135         136           7.7          3.0           6.1          2.3   \n",
       "58           59           6.6          2.9           4.6          1.3   \n",
       "..          ...           ...          ...           ...          ...   \n",
       "18           19           5.7          3.8           1.7          0.3   \n",
       "124         125           6.7          3.3           5.7          2.1   \n",
       "99          100           5.7          2.8           4.1          1.3   \n",
       "77           78           6.7          3.0           5.0          1.7   \n",
       "90           91           5.5          2.6           4.4          1.2   \n",
       "\n",
       "        Species  \n",
       "71   versicolor  \n",
       "145   virginica  \n",
       "105   virginica  \n",
       "135   virginica  \n",
       "58   versicolor  \n",
       "..          ...  \n",
       "18       setosa  \n",
       "124   virginica  \n",
       "99   versicolor  \n",
       "77   versicolor  \n",
       "90   versicolor  \n",
       "\n",
       "[100 rows x 6 columns]"
      ]
     },
     "execution_count": 25,
     "metadata": {},
     "output_type": "execute_result"
    }
   ],
   "source": [
    "data=pd.read_csv(\"/Projects/dsin-python/DataSet/iris.csv\",header=0)\n",
    "data.sample(100)"
   ]
  },
  {
   "cell_type": "code",
   "execution_count": 26,
   "metadata": {},
   "outputs": [
    {
     "data": {
      "text/html": [
       "<div>\n",
       "<style scoped>\n",
       "    .dataframe tbody tr th:only-of-type {\n",
       "        vertical-align: middle;\n",
       "    }\n",
       "\n",
       "    .dataframe tbody tr th {\n",
       "        vertical-align: top;\n",
       "    }\n",
       "\n",
       "    .dataframe thead th {\n",
       "        text-align: right;\n",
       "    }\n",
       "</style>\n",
       "<table border=\"1\" class=\"dataframe\">\n",
       "  <thead>\n",
       "    <tr style=\"text-align: right;\">\n",
       "      <th></th>\n",
       "      <th>Unnamed: 0</th>\n",
       "      <th>Sepal.Length</th>\n",
       "      <th>Sepal.Width</th>\n",
       "      <th>Petal.Length</th>\n",
       "      <th>Petal.Width</th>\n",
       "      <th>Species</th>\n",
       "    </tr>\n",
       "  </thead>\n",
       "  <tbody>\n",
       "    <tr>\n",
       "      <th>93</th>\n",
       "      <td>94</td>\n",
       "      <td>5.0</td>\n",
       "      <td>2.3</td>\n",
       "      <td>3.3</td>\n",
       "      <td>1.0</td>\n",
       "      <td>0</td>\n",
       "    </tr>\n",
       "    <tr>\n",
       "      <th>125</th>\n",
       "      <td>126</td>\n",
       "      <td>7.2</td>\n",
       "      <td>3.2</td>\n",
       "      <td>6.0</td>\n",
       "      <td>1.8</td>\n",
       "      <td>2</td>\n",
       "    </tr>\n",
       "    <tr>\n",
       "      <th>1</th>\n",
       "      <td>2</td>\n",
       "      <td>4.9</td>\n",
       "      <td>3.0</td>\n",
       "      <td>1.4</td>\n",
       "      <td>0.2</td>\n",
       "      <td>1</td>\n",
       "    </tr>\n",
       "    <tr>\n",
       "      <th>59</th>\n",
       "      <td>60</td>\n",
       "      <td>5.2</td>\n",
       "      <td>2.7</td>\n",
       "      <td>3.9</td>\n",
       "      <td>1.4</td>\n",
       "      <td>0</td>\n",
       "    </tr>\n",
       "    <tr>\n",
       "      <th>19</th>\n",
       "      <td>20</td>\n",
       "      <td>5.1</td>\n",
       "      <td>3.8</td>\n",
       "      <td>1.5</td>\n",
       "      <td>0.3</td>\n",
       "      <td>1</td>\n",
       "    </tr>\n",
       "    <tr>\n",
       "      <th>...</th>\n",
       "      <td>...</td>\n",
       "      <td>...</td>\n",
       "      <td>...</td>\n",
       "      <td>...</td>\n",
       "      <td>...</td>\n",
       "      <td>...</td>\n",
       "    </tr>\n",
       "    <tr>\n",
       "      <th>36</th>\n",
       "      <td>37</td>\n",
       "      <td>5.5</td>\n",
       "      <td>3.5</td>\n",
       "      <td>1.3</td>\n",
       "      <td>0.2</td>\n",
       "      <td>1</td>\n",
       "    </tr>\n",
       "    <tr>\n",
       "      <th>127</th>\n",
       "      <td>128</td>\n",
       "      <td>6.1</td>\n",
       "      <td>3.0</td>\n",
       "      <td>4.9</td>\n",
       "      <td>1.8</td>\n",
       "      <td>2</td>\n",
       "    </tr>\n",
       "    <tr>\n",
       "      <th>135</th>\n",
       "      <td>136</td>\n",
       "      <td>7.7</td>\n",
       "      <td>3.0</td>\n",
       "      <td>6.1</td>\n",
       "      <td>2.3</td>\n",
       "      <td>2</td>\n",
       "    </tr>\n",
       "    <tr>\n",
       "      <th>118</th>\n",
       "      <td>119</td>\n",
       "      <td>7.7</td>\n",
       "      <td>2.6</td>\n",
       "      <td>6.9</td>\n",
       "      <td>2.3</td>\n",
       "      <td>2</td>\n",
       "    </tr>\n",
       "    <tr>\n",
       "      <th>57</th>\n",
       "      <td>58</td>\n",
       "      <td>4.9</td>\n",
       "      <td>2.4</td>\n",
       "      <td>3.3</td>\n",
       "      <td>1.0</td>\n",
       "      <td>0</td>\n",
       "    </tr>\n",
       "  </tbody>\n",
       "</table>\n",
       "<p>100 rows × 6 columns</p>\n",
       "</div>"
      ],
      "text/plain": [
       "     Unnamed: 0  Sepal.Length  Sepal.Width  Petal.Length  Petal.Width  Species\n",
       "93           94           5.0          2.3           3.3          1.0        0\n",
       "125         126           7.2          3.2           6.0          1.8        2\n",
       "1             2           4.9          3.0           1.4          0.2        1\n",
       "59           60           5.2          2.7           3.9          1.4        0\n",
       "19           20           5.1          3.8           1.5          0.3        1\n",
       "..          ...           ...          ...           ...          ...      ...\n",
       "36           37           5.5          3.5           1.3          0.2        1\n",
       "127         128           6.1          3.0           4.9          1.8        2\n",
       "135         136           7.7          3.0           6.1          2.3        2\n",
       "118         119           7.7          2.6           6.9          2.3        2\n",
       "57           58           4.9          2.4           3.3          1.0        0\n",
       "\n",
       "[100 rows x 6 columns]"
      ]
     },
     "execution_count": 26,
     "metadata": {},
     "output_type": "execute_result"
    }
   ],
   "source": [
    "data[\"Species\"]=data[\"Species\"].map({\"versicolor\":0,\"setosa\":1,\"virginica\":2})\n",
    "data.sample(100)"
   ]
  },
  {
   "cell_type": "code",
   "execution_count": 27,
   "metadata": {},
   "outputs": [],
   "source": [
    "class KNN:\n",
    "    def __init__(self,k):#初始化方法，k是整型表示邻居的个数\n",
    "        self.k=k\n",
    "    def fit(self,X,y):\n",
    "        '''训练方法，只有在预测的时候才会调用，X是用于预测的类似数组、向量，[样本数量，样本特征]\n",
    "        y是样本数量'''\n",
    "        self.X=np.array(X)\n",
    "        self.y=np.array(y)\n",
    "    def predict(self,X):\n",
    "        #X是用于预测的类似数组、向量，[样本数量，样本特征]\n",
    "        #返回预测的结果\n",
    "        X=np.array(X)\n",
    "        result=[]\n",
    "        for x in X:\n",
    "            dis=np.sqrt(np.sum((x-self.X)**2,axis=1))       #按照行的方向求和 \n",
    "            '''\n",
    "            ndarray的运算，可以直接加减，每一位上的元素加减，避免了一个循环；\n",
    "            如果是低维减多维，就先把低维扩张成维数相同的向量\n",
    "            '''\n",
    "            #返回数组排序后，每个元素在原数组中排序前的索引\n",
    "            index=dis.argsort()\n",
    "            #取距离最近的k个元素\n",
    "            index=index[:self.k]\n",
    "            #返回数组中每个非负整数出现的次数\n",
    "            count=np.bincount(self.y[index])\n",
    "            #返回值最大的元素，对应的索引，该索引就是我们判定的类别\n",
    "            result.append(count.argmax())\n",
    "        return np.asarray(result)\n",
    "    def predict2(self,X): #考虑权重的knn，距离越远，权重越小，距离越近，权重越大；权重可以用距离的倒数表示\n",
    "        #返回预测的结果\n",
    "        X=np.array(X)\n",
    "        result=[]\n",
    "        for x in X:\n",
    "            dis=np.sqrt(np.sum((x-self.X)**2,axis=1))       #按照行的方向求和 \n",
    "            '''\n",
    "            ndarray的运算，可以直接加减，每一位上的元素加减，避免了一个循环；\n",
    "            如果是低维减多维，就先把低维扩张成维数相同的向量\n",
    "            '''\n",
    "            #返回数组排序后，每个元素在原数组中排序前的索引\n",
    "            index=dis.argsort()\n",
    "            #取距离最近的k个元素\n",
    "            index=index[:self.k]\n",
    "            #返回数组中每个非负整数出现的次数，但是考虑权重，所以要在bincount里面改写\n",
    "            count=np.bincount(self.y[index],weights=1/dis[index])\n",
    "            #返回值最大的元素，对应的索引，该索引就是我们判定的类别\n",
    "            result.append(count.argmax())\n",
    "        return np.asarray(result)"
   ]
  },
  {
   "cell_type": "code",
   "execution_count": 28,
   "metadata": {},
   "outputs": [
    {
     "data": {
      "text/plain": [
       "30"
      ]
     },
     "metadata": {},
     "output_type": "display_data"
    },
    {
     "data": {
      "text/plain": [
       "30"
      ]
     },
     "metadata": {},
     "output_type": "display_data"
    }
   ],
   "source": [
    "#对数据集做一个拆分，拆出测试集和训练集\n",
    "#要保证数据集选择的随机性和完整性\n",
    "t0=data[data[\"Species\"]==0]\n",
    "t1=data[data[\"Species\"]==1]\n",
    "t2=data[data[\"Species\"]==2]\n",
    "t0=t0.sample(len(t0),random_state=0)    #random_state用于保存打乱顺序以复盘\n",
    "t1=t1.sample(len(t1),random_state=0)\n",
    "t2=t2.sample(len(t2),random_state=0)\n",
    "train_X=pd.concat([t0.iloc[:40,:-1],t1.iloc[:40,:-1],t2.iloc[:40,:-1]],axis=0)    #:40表示前40行，:-1表示直到倒数第一列\n",
    "train_y=pd.concat([t0.iloc[:40,-1],t1.iloc[:40,-1],t2.iloc[:40,-1]],axis=0)\n",
    "test_X=pd.concat([t0.iloc[40:,:-1],t1.iloc[40:,:-1],t2.iloc[40:,:-1]],axis=0)\n",
    "test_y=pd.concat([t0.iloc[40:,-1],t1.iloc[40:,-1],t2.iloc[40:,-1]],axis=0)\n",
    "#创建KNN对象，进行训练与测试\n",
    "knn=KNN(k=3)\n",
    "#训练\n",
    "knn.fit(train_X,train_y)\n",
    "#进行测试，获得测试结果\n",
    "result=knn.predict(test_X)\n",
    "#display(result)\n",
    "#display(test_y)\n",
    "display(np.sum(result==test_y)) #计算预测正确的数量\n",
    "display(len(result))"
   ]
  },
  {
   "cell_type": "code",
   "execution_count": 34,
   "metadata": {},
   "outputs": [
    {
     "data": {
      "text/plain": [
       "30"
      ]
     },
     "metadata": {},
     "output_type": "display_data"
    }
   ],
   "source": [
    "#带上权重预测predict2\n",
    "result2=knn.predict2(test_X)\n",
    "display(np.sum(result2==test_y))"
   ]
  },
  {
   "cell_type": "code",
   "execution_count": 29,
   "metadata": {},
   "outputs": [],
   "source": [
    "#接下来做可视化的工作\n",
    "import matplotlib as mpl\n",
    "from matplotlib import pyplot as plt"
   ]
  },
  {
   "cell_type": "code",
   "execution_count": 30,
   "metadata": {},
   "outputs": [],
   "source": [
    "#默认情况下matplotlib不支持中文显示，所以需要设置一下\n",
    "mpl.rcParams[\"font.family\"]=\"Microsoft YaHei\"    #设置字体为黑体以中文显示\n",
    "#设置在中文显示的时候，能够正常显示负号\n",
    "mpl.rcParams[\"axes.unicode_minus\"]=False"
   ]
  },
  {
   "cell_type": "code",
   "execution_count": 31,
   "metadata": {},
   "outputs": [
    {
     "data": {
      "image/png": "[encoded data removed]",
      "text/plain": [
       "<Figure size 640x480 with 1 Axes>"
      ]
     },
     "metadata": {},
     "output_type": "display_data"
    }
   ],
   "source": [
    "#绘制散点图，以花瓣的长度和花萼的长度为两个维度\n",
    "#\"versicolor\":0,\"setosa\":1,\"virginica\":2\n",
    "plt.scatter(x=t0[\"Sepal.Length\"][:40],y=t0[\"Petal.Length\"][:40],color=\"r\",label=\"versicolor\")\n",
    "plt.scatter(x=t1[\"Sepal.Length\"][:40],y=t1[\"Petal.Length\"][:40],color=\"g\",label=\"setosa\")\n",
    "plt.scatter(x=t2[\"Sepal.Length\"][:40],y=t2[\"Petal.Length\"][:40],color=\"b\",label=\"virginica\")\n",
    "#接下来绘制测试集的数据\n",
    "right=test_X[result==test_y]\n",
    "wrong=test_X[result!=test_y]\n",
    "plt.scatter(x=right[\"Sepal.Length\"],y=right[\"Petal.Length\"],color=\"c\",marker=\"x\",label=\"right\")\n",
    "plt.scatter(x=wrong[\"Sepal.Length\"],y=wrong[\"Petal.Length\"],color=\"m\",marker=\">\",label=\"wrong\")\n",
    "plt.xlabel(\"花萼长度\")\n",
    "plt.ylabel(\"花瓣长度\")\n",
    "plt.title(\"分类结果展示\")\n",
    "plt.legend(loc=\"best\")\n",
    "plt.show()"
   ]
  },
  {
   "cell_type": "code",
   "execution_count": 32,
   "metadata": {},
   "outputs": [
    {
     "data": {
      "text/plain": [
       "array([2, 3], dtype=int64)"
      ]
     },
     "execution_count": 32,
     "metadata": {},
     "output_type": "execute_result"
    }
   ],
   "source": [
    "np.bincount([0,1,1,0,1])    #不考虑weights"
   ]
  },
  {
   "cell_type": "code",
   "execution_count": 33,
   "metadata": {},
   "outputs": [
    {
     "data": {
      "text/plain": [
       "array([0.6 , 0.55])"
      ]
     },
     "execution_count": 33,
     "metadata": {},
     "output_type": "execute_result"
    }
   ],
   "source": [
    "np.bincount([0,1,1,0,1],weights=[0.5,0.3,0.2,0.1,0.05])     #考虑权重"
   ]
  }
 ],
 "metadata": {
  "kernelspec": {
   "display_name": "base",
   "language": "python",
   "name": "python3"
  },
  "language_info": {
   "codemirror_mode": {
    "name": "ipython",
    "version": 3
   },
   "file_extension": ".py",
   "mimetype": "text/x-python",
   "name": "python",
   "nbconvert_exporter": "python",
   "pygments_lexer": "ipython3",
   "version": "3.9.18"
  }
 },
 "nbformat": 4,
 "nbformat_minor": 2
}
